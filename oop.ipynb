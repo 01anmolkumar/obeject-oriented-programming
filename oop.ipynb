{
 "cells": [
  {
   "cell_type": "code",
   "execution_count": 1,
   "id": "58ad7aab-a0f4-4e31-b6e0-cf5c88f8e65c",
   "metadata": {},
   "outputs": [
    {
     "name": "stdout",
     "output_type": "stream",
     "text": [
      "10\n",
      "10\n"
     ]
    }
   ],
   "source": [
    "class DemoClass:\n",
    "    a=10\n",
    "demoobject =DemoClass()\n",
    "demoobject1 =DemoClass()\n",
    "print(demoobject.a)\n",
    "print(demoobject1.a)"
   ]
  },
  {
   "cell_type": "code",
   "execution_count": 2,
   "id": "f7149106-6636-46ba-854f-f7d25743a270",
   "metadata": {},
   "outputs": [
    {
     "name": "stdout",
     "output_type": "stream",
     "text": [
      "50\n"
     ]
    }
   ],
   "source": [
    "class DemoClass:\n",
    "    def sumvalues(self):\n",
    "        print(20+30)\n",
    "        \n",
    "demoobject =DemoClass()\n",
    "demoobject.sumvalues()\n",
    "  "
   ]
  },
  {
   "cell_type": "code",
   "execution_count": 3,
   "id": "0d4da5a8-ef87-4c1f-b4fb-8bf8b32cd0d3",
   "metadata": {},
   "outputs": [],
   "source": [
    "#method or constructor"
   ]
  },
  {
   "cell_type": "code",
   "execution_count": 2,
   "id": "4a5a81d3-cc98-486c-a9a4-ea75eab917bd",
   "metadata": {},
   "outputs": [
    {
     "name": "stdout",
     "output_type": "stream",
     "text": [
      "100\n",
      "50\n"
     ]
    }
   ],
   "source": [
    "class DemoClass:\n",
    "    a=10\n",
    "    def showvalue1(self):\n",
    "        self.c=self.a*self.a\n",
    "        print(self.c)\n",
    "     \n",
    "    def showvalue2(self,a,b):\n",
    "        print(a+b)\n",
    "\n",
    "obj=DemoClass()\n",
    "obj.showvalue1()\n",
    "obj.showvalue2(20,30)"
   ]
  },
  {
   "cell_type": "code",
   "execution_count": 17,
   "id": "fb07310b-df89-402b-9d95-7f312fc9f12d",
   "metadata": {},
   "outputs": [
    {
     "name": "stdout",
     "output_type": "stream",
     "text": [
      "adding new student in Database..\n",
      "karan 97\n",
      "adding new student in Database..\n",
      "anmol 98\n"
     ]
    }
   ],
   "source": [
    "#constructor\n",
    "class Student:\n",
    "    def __init__(self,fullname, marks):\n",
    "        self.name = fullname\n",
    "        self.marks= marks\n",
    "        print(\"adding new student in Database..\")\n",
    "\n",
    "s1= Student(\"karan\",97)\n",
    "print(s1.name,s1.marks)\n",
    "\n",
    "s2= Student(\"anmol\",98)\n",
    "print(s2.name,s2.marks)\n"
   ]
  },
  {
   "cell_type": "code",
   "execution_count": 20,
   "id": "002233e6-f8f6-488d-ae31-e5fea4442063",
   "metadata": {},
   "outputs": [
    {
     "name": "stdout",
     "output_type": "stream",
     "text": [
      "adding new student in Database..\n",
      "karan 97\n",
      "adding new student in Database..\n",
      "anmol 98\n"
     ]
    }
   ],
   "source": [
    "class Student:\n",
    "    \n",
    "    #default constructors\n",
    "    def __init__(self):\n",
    "        pass\n",
    "\n",
    "    #parameterized constructors\n",
    "    def __init__(self,fullname, marks):\n",
    "        self.name = fullname\n",
    "        self.marks= marks\n",
    "        print(\"adding new student in Database..\")\n",
    "\n",
    "s1= Student(\"karan\",97)\n",
    "print(s1.name,s1.marks)\n",
    "\n",
    "s2= Student(\"anmol\",98)\n",
    "print(s2.name,s2.marks)\n"
   ]
  },
  {
   "cell_type": "code",
   "execution_count": 26,
   "id": "c59c2109-26ac-4723-acbb-e79d7ce93b1d",
   "metadata": {},
   "outputs": [
    {
     "name": "stdout",
     "output_type": "stream",
     "text": [
      "adding new student in Database..\n",
      "karan\n",
      "ABC collage\n",
      "ABC collage\n"
     ]
    }
   ],
   "source": [
    "class Student:\n",
    "\n",
    "    collage_name = \"ABC collage\"\n",
    "    name = \"anonymous\" #class attr\n",
    "    \n",
    "    def __init__(self,fullname, marks):\n",
    "        self.name = fullname  #object attr > class attr\n",
    "        self.marks= marks\n",
    "        print(\"adding new student in Database..\")\n",
    "\n",
    "s1= Student(\"karan\",97)\n",
    "print(s1.name)\n",
    "# print(s1.collage_name)\n",
    "# print(Student.collage_name)\n"
   ]
  },
  {
   "cell_type": "code",
   "execution_count": 23,
   "id": "dd8982bd-e4e9-4abb-9480-a3afdcaf2732",
   "metadata": {},
   "outputs": [
    {
     "name": "stdout",
     "output_type": "stream",
     "text": [
      "Welcome student anmol\n",
      "98\n"
     ]
    }
   ],
   "source": [
    "#method\n",
    "class Student:\n",
    "    def __init__(self, name,marks):\n",
    "        self.name = name\n",
    "        self.marks = marks\n",
    "    \n",
    "    def welcome(self):\n",
    "        print(\"Welcome student\",self.name)\n",
    "      \n",
    "    def get_marks(self):\n",
    "        return self.marks\n",
    "        \n",
    "        \n",
    "s1 = Student(\"anmol\",98)\n",
    "s1.welcome()\n",
    "#s1.get_marks()\n",
    "print(s1.get_marks())"
   ]
  },
  {
   "cell_type": "code",
   "execution_count": 33,
   "id": "adc3b91a-0915-43bc-b924-2d7f890d5052",
   "metadata": {},
   "outputs": [
    {
     "name": "stdout",
     "output_type": "stream",
     "text": [
      "hi anmol stark your avg score is: 98.0\n",
      "hi ironman your avg score is: 98.0\n"
     ]
    }
   ],
   "source": [
    "#lets Practice\n",
    "# create student class that takes name & marks of 3 subjects as arguments in constructor.\n",
    "#then create a method to print the average.\n",
    "\n",
    "class Student:\n",
    "    def __init__(self,name,marks):\n",
    "        self.name = name\n",
    "        self.marks = marks\n",
    "\n",
    "    def get_avg(self):\n",
    "        sum=0\n",
    "        for val in self.marks:\n",
    "            sum += val\n",
    "        print(\"hi\", self.name, \"your avg score is:\", sum/3)   \n",
    "\n",
    "s1 =Student(\"anmol stark\",[99,98,97])\n",
    "s1.get_avg()\n",
    "\n",
    "s1.name = \"ironman\"\n",
    "s1.get_avg()\n",
    "    "
   ]
  },
  {
   "cell_type": "code",
   "execution_count": 43,
   "id": "fbf0b23a-9d99-4e9a-8b36-52bd2ae41abd",
   "metadata": {},
   "outputs": [
    {
     "name": "stdout",
     "output_type": "stream",
     "text": [
      "hello\n"
     ]
    }
   ],
   "source": [
    "#static method\n",
    "class Student:\n",
    "    \n",
    "    @staticmethod #decorator\n",
    "    def hello():\n",
    "        print(\"hello\")\n",
    "\n",
    "s1=Student()    \n",
    "s1.hello()\n",
    "\n"
   ]
  },
  {
   "cell_type": "code",
   "execution_count": 44,
   "id": "80606ed1-6418-46d3-806c-0a27a1edf898",
   "metadata": {},
   "outputs": [
    {
     "name": "stdout",
     "output_type": "stream",
     "text": [
      "car Started..\n"
     ]
    }
   ],
   "source": [
    "#Abstractions\n",
    "class Car:\n",
    "    def __init__(self):\n",
    "        self.acc = False\n",
    "        self.brk = False\n",
    "        self.clutch = False\n",
    "        \n",
    "    def start(self):\n",
    "        self.clutch = True\n",
    "        self.acc =True\n",
    "        print(\"car Started..\")\n",
    "\n",
    "car1= Car()\n",
    "car1.start()"
   ]
  },
  {
   "cell_type": "code",
   "execution_count": 55,
   "id": "91e3ec63-3d30-411e-9a00-02c8bca1876f",
   "metadata": {},
   "outputs": [
    {
     "name": "stdout",
     "output_type": "stream",
     "text": [
      "Rs. 1000 was debited\n",
      "total blance = 9000\n",
      "Rs. 500 was credited\n",
      "total blance = 9500\n"
     ]
    }
   ],
   "source": [
    "#lets pracctice\n",
    "#create Account class with 2 attributes-balance & account no.\n",
    "# create method for debit,credit & printing the balance.\n",
    "\n",
    "class Account:\n",
    "    def __init__(self,bal,acc):\n",
    "        self.blance =bal\n",
    "        self.account_no = acc\n",
    "        \n",
    "    def debit(self,amount):\n",
    "        self.blance -= amount\n",
    "        print(\"Rs.\",amount,\"was debited\")\n",
    "        print(\"total blance =\", self.get_blance())\n",
    "\n",
    "    def credit(self,amount):\n",
    "        self.blance += amount\n",
    "        print(\"Rs.\",amount,\"was credited\")\n",
    "        print(\"total blance =\", self.get_blance())\n",
    "\n",
    "    def get_blance(self):\n",
    "       return self.blance\n",
    "\n",
    "    \n",
    "       \n",
    "    \n",
    "\n",
    "\n",
    "acc1 =Account(10000,12345)\n",
    "acc1.debit(1000)\n",
    "acc1.credit(500)"
   ]
  },
  {
   "cell_type": "code",
   "execution_count": 9,
   "id": "96a4ce5c-0ecf-4082-a6d8-1643ec9cffd2",
   "metadata": {},
   "outputs": [
    {
     "name": "stdout",
     "output_type": "stream",
     "text": [
      "shradha\n"
     ]
    },
    {
     "ename": "AttributeError",
     "evalue": "'Student' object has no attribute 'name'",
     "output_type": "error",
     "traceback": [
      "\u001b[1;31m---------------------------------------------------------------------------\u001b[0m",
      "\u001b[1;31mAttributeError\u001b[0m                            Traceback (most recent call last)",
      "Cell \u001b[1;32mIn[9], line 9\u001b[0m\n\u001b[0;32m      7\u001b[0m \u001b[38;5;28mprint\u001b[39m(s1\u001b[38;5;241m.\u001b[39mname)\n\u001b[0;32m      8\u001b[0m \u001b[38;5;28;01mdel\u001b[39;00m s1\u001b[38;5;241m.\u001b[39mname\n\u001b[1;32m----> 9\u001b[0m \u001b[38;5;28mprint\u001b[39m(\u001b[43ms1\u001b[49m\u001b[38;5;241;43m.\u001b[39;49m\u001b[43mname\u001b[49m)\n",
      "\u001b[1;31mAttributeError\u001b[0m: 'Student' object has no attribute 'name'"
     ]
    }
   ],
   "source": [
    "#delet keyword\n",
    "class Student:\n",
    "    def __init__(self,name):\n",
    "        self.name = name\n",
    "\n",
    "s1 = Student(\"shradha\")\n",
    "print(s1.name)\n",
    "del s1.name\n",
    "print(s1.name)\n"
   ]
  },
  {
   "cell_type": "code",
   "execution_count": 17,
   "id": "ad727d37-50ac-4e8b-830b-f871b9ad1d1f",
   "metadata": {},
   "outputs": [
    {
     "name": "stdout",
     "output_type": "stream",
     "text": [
      "hello person!\n",
      "None\n"
     ]
    }
   ],
   "source": [
    "#private\n",
    "class person:\n",
    "    __name = \"anonymous\"\n",
    "    \n",
    "    def __hello(self):\n",
    "        print(\"hello person!\")\n",
    "        \n",
    "    def welcome(self):\n",
    "       self.__hello()\n",
    "       \n",
    "\n",
    "p1 = person()\n",
    "#print(p1.__name)\n",
    "#print(p1.__hello)\n",
    "print(p1.welcome())\n",
    "\n"
   ]
  },
  {
   "cell_type": "code",
   "execution_count": 26,
   "id": "50197490-cf9c-4066-bbca-69c03db1b7b5",
   "metadata": {},
   "outputs": [
    {
     "name": "stdout",
     "output_type": "stream",
     "text": [
      "car started..\n",
      "car is stopped\n",
      "fortuner\n",
      "black\n"
     ]
    }
   ],
   "source": [
    "#inheritance\n",
    "# single inheritance\n",
    "class Car:\n",
    "    color = \"black\"\n",
    "    @staticmethod\n",
    "    def start():\n",
    "        print(\"car started..\")\n",
    "\n",
    "    @staticmethod\n",
    "    def stop():\n",
    "        print(\"car is stopped\")\n",
    "    \n",
    "class ToyotaCar(Car):\n",
    "    def __init__(self,name):\n",
    "        self.name = name\n",
    "\n",
    "car1 = ToyotaCar(\"fortuner\")\n",
    "car2 = ToyotaCar(\"prius\")\n",
    "\n",
    "car1.start()\n",
    "car1.stop()\n",
    "print(car1.name)\n",
    "print(car1.color)"
   ]
  },
  {
   "cell_type": "code",
   "execution_count": 27,
   "id": "ac380ed3-96b6-4e4f-b379-9a98a1ec6795",
   "metadata": {},
   "outputs": [
    {
     "name": "stdout",
     "output_type": "stream",
     "text": [
      "car started..\n"
     ]
    }
   ],
   "source": [
    "#multi-level inheritance\n",
    "class Car: \n",
    "    @staticmethod\n",
    "    def start():\n",
    "        print(\"car started..\")\n",
    "\n",
    "    @staticmethod\n",
    "    def stop():\n",
    "        print(\"car is stopped\")\n",
    "    \n",
    "class ToyotaCar(Car):\n",
    "    def __init__(self,brand):\n",
    "        self.brand = brand\n",
    "\n",
    "class Fortuner(ToyotaCar):\n",
    "    def __init__(self,type):\n",
    "        self.type = type\n",
    "        \n",
    "\n",
    "car1 = Fortuner(\"diesel\")\n",
    "car1.start()\n",
    "\n",
    "\n",
    "\n",
    "\n"
   ]
  },
  {
   "cell_type": "code",
   "execution_count": 33,
   "id": "be775441-9ecf-4c02-b582-dc5d191905ad",
   "metadata": {},
   "outputs": [
    {
     "name": "stdout",
     "output_type": "stream",
     "text": [
      "welcome to class C\n",
      "welcome to class B\n",
      "welcome to class A\n"
     ]
    }
   ],
   "source": [
    "#multipul inheritance\n",
    "class A:\n",
    "    varA = \"welcome to class A\"\n",
    "    \n",
    "class B:\n",
    "    varB = \"welcome to class B\"\n",
    "    \n",
    "class c(A,B):\n",
    "    varc = \"welcome to class C\"\n",
    "\n",
    "c1 =c()\n",
    "print(c1.varc)\n",
    "print(c1.varB)\n",
    "print(c1.varA)\n"
   ]
  },
  {
   "cell_type": "code",
   "execution_count": 40,
   "id": "c3a8f9db-2191-4ecd-9f55-580187a2ad80",
   "metadata": {},
   "outputs": [
    {
     "name": "stdout",
     "output_type": "stream",
     "text": [
      "car started..\n",
      "electric\n"
     ]
    }
   ],
   "source": [
    "#super method\n",
    "class Car: \n",
    "    def __init__(self, type):\n",
    "        self.type = type\n",
    "\n",
    "    @staticmethod\n",
    "    def start():\n",
    "        print(\"car started..\")\n",
    "\n",
    "    @staticmethod\n",
    "    def stop():\n",
    "        print(\"car is stopped\")\n",
    "    \n",
    "class ToyotaCar(Car):\n",
    "    def __init__(self,name,type):\n",
    "        super().__init__(type)\n",
    "        self.name = name\n",
    "        super().start()\n",
    "\n",
    "\n",
    "car1 =ToyotaCar(\"prius\", \"electric\")\n",
    "print(car1.type)\n"
   ]
  },
  {
   "cell_type": "code",
   "execution_count": 51,
   "id": "39f5e2cc-9bb0-4787-a7ec-f750cba85f69",
   "metadata": {},
   "outputs": [
    {
     "name": "stdout",
     "output_type": "stream",
     "text": [
      "rahul kumar\n",
      "rahul kumar\n"
     ]
    }
   ],
   "source": [
    "#class method\n",
    "class person:\n",
    "    name = \"anonymous\"\n",
    "    # def changename(self,name):\n",
    "    #     self.__class__.name = name\n",
    "        \n",
    "    @classmethod\n",
    "    def changename(cls,name):\n",
    "         cls.name = name\n",
    "\n",
    "    \n",
    "p1 = person()\n",
    "p1.changename(\"rahul kumar\")\n",
    "print(p1.name)\n",
    "print(person.name)\n"
   ]
  },
  {
   "cell_type": "code",
   "execution_count": 71,
   "id": "3e85e7a6-08ac-41aa-8343-583c53b6a6a1",
   "metadata": {},
   "outputs": [
    {
     "name": "stdout",
     "output_type": "stream",
     "text": [
      "98.0%\n",
      "94.0%\n"
     ]
    }
   ],
   "source": [
    "#property\n",
    "class Student:\n",
    "    def __init__(self,phy, chem,math):\n",
    "        self.phy = phy\n",
    "        self.chem = chem\n",
    "        self.math =math\n",
    "        \n",
    "    @property\n",
    "    def percentage(self):\n",
    "        return str((self.phy + self.chem + self.math) / 3) + \"%\"\n",
    "\n",
    "\n",
    "stu1 = Student(98, 97, 99)\n",
    "print(stu1.percentage)\n",
    "\n",
    "stu1.phy =86\n",
    "print(stu1.percentage)\n",
    "\n",
    "\n"
   ]
  },
  {
   "cell_type": "code",
   "execution_count": 8,
   "id": "561ea3f9-e00b-4146-a565-3d878671eb39",
   "metadata": {},
   "outputs": [
    {
     "name": "stdout",
     "output_type": "stream",
     "text": [
      "1 i + 3 j\n",
      "4 i + 6 j\n",
      "5 i + 9 j\n"
     ]
    }
   ],
   "source": [
    "#polymorphism\n",
    "class Complex:\n",
    "    def __init__(self,real,img):\n",
    "        self.real = real\n",
    "        self.img = img\n",
    "        \n",
    "    def showNumber(self):\n",
    "        print(self.real,\"i +\", self.img,\"j\")\n",
    "\n",
    "    def __add__(self,num2):\n",
    "        newReal =self.real + num2.real\n",
    "        newing = self.img + num2.img\n",
    "        return Complex(newReal, newing)\n",
    "        \n",
    "    def __sub__(self,num2):\n",
    "        newReal =self.real - num2.real\n",
    "        newing = self.img - num2.img\n",
    "        return Complex(newReal, newimg)\n",
    "\n",
    "num1 = Complex(1,3)\n",
    "num1.showNumber()\n",
    "\n",
    "num2 = Complex(4,6)\n",
    "num2.showNumber()\n",
    "\n",
    "num3 = num1 + num2\n",
    "num3.showNumber()"
   ]
  },
  {
   "cell_type": "code",
   "execution_count": 11,
   "id": "3b6b1f68-f513-4092-b7a5-4761f555c0d7",
   "metadata": {},
   "outputs": [
    {
     "name": "stdout",
     "output_type": "stream",
     "text": [
      "1386.0\n",
      "132.0\n"
     ]
    }
   ],
   "source": [
    "#Q. Define a circle class to create a circle with radius r using the constructor.\n",
    "# define an area() method of the class which calculates the area of the circle.\n",
    "#define a perimeter() method of the class which allows you to calculate the perimeter of \n",
    "  #the circle.\n",
    "\n",
    "class Circle:\n",
    "    def __init__(self, radius):\n",
    "        self.radius = radius\n",
    "\n",
    "    def area(self):\n",
    "        return (22/7) * self.radius ** 2\n",
    "    \n",
    "    def perimeter(self):\n",
    "        return 2 * (22/7) * self.radius\n",
    "\n",
    "c1 = Circle(21)\n",
    "print(c1.area())\n",
    "print(c1.perimeter())"
   ]
  },
  {
   "cell_type": "code",
   "execution_count": 21,
   "id": "8dbd6d8f-7a7b-4db1-bb6f-cbfecc03e7ff",
   "metadata": {},
   "outputs": [
    {
     "name": "stdout",
     "output_type": "stream",
     "text": [
      "Name = Elon Musk\n",
      "Age = 40\n",
      "Role = Engineer\n",
      "Department = IT\n",
      "Salary = 75000\n"
     ]
    }
   ],
   "source": [
    "#Q. Define a employee class with attributes role, department & salary. This class also\n",
    "     #show Details() method.\n",
    " #create an Engineer class that inherits properties from Employee & has additional \n",
    "     # attributes: name & age.\n",
    "class Employee:\n",
    "    def __init__(self, role, dept, salary):\n",
    "        self.role = role\n",
    "        self.dept = dept\n",
    "        self.salary = salary\n",
    "        \n",
    "    def showDetails(self):\n",
    "        print(\"Role =\", self.role)\n",
    "        print(\"Department =\", self.dept)\n",
    "        print(\"Salary =\", self.salary)\n",
    "    \n",
    "    \n",
    "class Engineer(Employee):\n",
    "    def __init__(self, name, age):\n",
    "        self.name = name\n",
    "        self.age = age\n",
    "        super().__init__(\"Engineer\", \"IT\", \"75000\")\n",
    "        \n",
    "    def showDetails(self):\n",
    "        print(\"Name =\", self.name)\n",
    "        print(\"Age =\", self.age)\n",
    "        super().showDetails()  # Calling the parent class's showDetails method\n",
    "\n",
    "engg1 = Engineer(\"Elon Musk\", 40)\n",
    "engg1.showDetails()\n"
   ]
  },
  {
   "cell_type": "code",
   "execution_count": 25,
   "id": "a0c19739-c19f-47d8-a9dc-178f0348516a",
   "metadata": {},
   "outputs": [
    {
     "name": "stdout",
     "output_type": "stream",
     "text": [
      "True\n"
     ]
    }
   ],
   "source": [
    "#Q. create a class called order which stores item & its price.\n",
    " #use Dunder function __get__() to convey that:\n",
    "   # order1 > order2 if price of order1 > price of order2\n",
    "\n",
    "class Order:\n",
    "    def __init__(self,item,price):\n",
    "        self.item = item\n",
    "        self.price = price\n",
    " \n",
    "    def __gt__(self, odr2):\n",
    "       return self.price > odr2.price\n",
    "\n",
    "odr1 = Order(\"chips\", 20)\n",
    "odr2 = Order(\"tea\", 15)\n",
    "\n",
    "print(odr1 > odr2)"
   ]
  },
  {
   "cell_type": "code",
   "execution_count": null,
   "id": "6447402f-b8ef-4a5d-bf69-1afab70f8f36",
   "metadata": {},
   "outputs": [],
   "source": []
  }
 ],
 "metadata": {
  "kernelspec": {
   "display_name": "Python 3 (ipykernel)",
   "language": "python",
   "name": "python3"
  },
  "language_info": {
   "codemirror_mode": {
    "name": "ipython",
    "version": 3
   },
   "file_extension": ".py",
   "mimetype": "text/x-python",
   "name": "python",
   "nbconvert_exporter": "python",
   "pygments_lexer": "ipython3",
   "version": "3.12.3"
  }
 },
 "nbformat": 4,
 "nbformat_minor": 5
}
